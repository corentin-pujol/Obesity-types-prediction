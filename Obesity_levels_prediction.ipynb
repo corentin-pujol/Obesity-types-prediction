{
  "nbformat": 4,
  "nbformat_minor": 0,
  "metadata": {
    "colab": {
      "name": "Obesity levels prediction.ipynb",
      "provenance": [],
      "authorship_tag": "ABX9TyOV1a22t/1ghVNX3G+bXZLr",
      "include_colab_link": true
    },
    "kernelspec": {
      "name": "python3",
      "display_name": "Python 3"
    },
    "language_info": {
      "name": "python"
    }
  },
  "cells": [
    {
      "cell_type": "markdown",
      "metadata": {
        "id": "view-in-github",
        "colab_type": "text"
      },
      "source": [
        "<a href=\"https://colab.research.google.com/github/corentin-pujol/q-Obesity-types-prediction/blob/main/Obesity_levels_prediction.ipynb\" target=\"_parent\"><img src=\"https://colab.research.google.com/assets/colab-badge.svg\" alt=\"Open In Colab\"/></a>"
      ]
    },
    {
      "cell_type": "markdown",
      "metadata": {
        "id": "X97tjY63gN-v"
      },
      "source": [
        "##Quentin PELET & Corentin PUJOL"
      ]
    },
    {
      "cell_type": "code",
      "metadata": {
        "id": "32tnAamkfAJI"
      },
      "source": [
        "import pandas as pd"
      ],
      "execution_count": null,
      "outputs": []
    }
  ]
}